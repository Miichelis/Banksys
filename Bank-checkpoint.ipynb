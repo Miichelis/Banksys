{
 "cells": [
  {
   "cell_type": "code",
   "execution_count": 107,
   "id": "fa4f409e",
   "metadata": {},
   "outputs": [],
   "source": [
    "from openpyxl import Workbook,load_workbook\n",
    "import random\n",
    "import string"
   ]
  },
  {
   "cell_type": "markdown",
   "id": "ab73b012",
   "metadata": {},
   "source": [
    "Load the xlsx file"
   ]
  },
  {
   "cell_type": "code",
   "execution_count": 108,
   "id": "b55d9ccc",
   "metadata": {},
   "outputs": [],
   "source": [
    "wb = load_workbook(r\"C:\\Users\\User\\Desktop\\Python-Excel\\.ipynb_checkpoints\\Database.xlsx\")"
   ]
  },
  {
   "cell_type": "code",
   "execution_count": 109,
   "id": "fa2ff6f2",
   "metadata": {},
   "outputs": [],
   "source": [
    "ws = wb.active     #ws for worksheet\n",
    "col=[\"A\",\"B\",\"C\",\"D\",\"E\",\"F\",\"G\",\"H\"] #Define the col"
   ]
  },
  {
   "cell_type": "code",
   "execution_count": 110,
   "id": "5accd254",
   "metadata": {},
   "outputs": [
    {
     "name": "stdout",
     "output_type": "stream",
     "text": [
      "ID\n",
      "NAME\n",
      "BALANCE\n",
      "EMAIL\n",
      "DATE OF BIRTH\n",
      "NATIONALITY\n",
      "ADDRESS\n",
      "PHONE NUMBER\n"
     ]
    }
   ],
   "source": [
    "for item in col:\n",
    "    for i in range(1,2):\n",
    "        print (ws[item+str(i)].value)"
   ]
  },
  {
   "cell_type": "raw",
   "id": "800ef145",
   "metadata": {},
   "source": [
    "for item in col:\n",
    "    for i in range(2,10):\n",
    "        ws[item+str(i)].value = None \n",
    "Clearing rows"
   ]
  },
  {
   "cell_type": "code",
   "execution_count": 111,
   "id": "ef43be8a",
   "metadata": {},
   "outputs": [],
   "source": [
    "#wb.save(r\"C:\\Users\\User\\Desktop\\Python-Excel\\.ipynb_checkpoints\\Database.xlsx\") #Data save"
   ]
  },
  {
   "cell_type": "raw",
   "id": "404e794c",
   "metadata": {},
   "source": [
    "Create Class that takes the info and adds them to the xlsx file\n",
    "\n",
    "\n",
    "Bank System\n",
    "If you want to create an account in the id parameter add \"None\"\n",
    "A -> Account Creation\n",
    "D -> Deposit\n",
    "W -> Withdraw\n",
    "C -> Check Balance\n"
   ]
  },
  {
   "cell_type": "code",
   "execution_count": 116,
   "id": "6156148c",
   "metadata": {},
   "outputs": [],
   "source": [
    "class Bank:\n",
    "    def __init__(self,id,name,email,date_of_birth,nationality,address,phone_number):\n",
    "        self.id=id\n",
    "        self.name=name\n",
    "        self.email=email\n",
    "        self.date_of_birth=date_of_birth\n",
    "        self.nationality=nationality\n",
    "        self.address=address\n",
    "        self.phone_number=phone_number\n",
    "        \n",
    "        \n",
    "    def account_create(self):\n",
    "        code=\"\"\n",
    "        for i in range(12):\n",
    "            code+=str(random.randint(0,9))\n",
    "        print (\"Your account ID is\",code,\"with account name\",self.name)\n",
    "        for i in range(1,100):\n",
    "            if ws[\"A\"+str(i)].value is None:\n",
    "                ws[\"A\"+str(i)].value = code\n",
    "                break\n",
    "        for i in range(1,100):\n",
    "            if ws[\"B\"+str(i)].value is None:\n",
    "                ws[\"B\"+str(i)].value = self.name\n",
    "                break\n",
    "        for i in range(1,100):\n",
    "            if ws[\"D\"+str(i)].value is None:\n",
    "                ws[\"D\"+str(i)].value = self.email\n",
    "                break\n",
    "        for i in range(1,100):\n",
    "            if ws[\"E\"+str(i)].value is None:\n",
    "                ws[\"E\"+str(i)].value = self.date_of_birth\n",
    "                break\n",
    "        for i in range(1,100):\n",
    "            if ws[\"F\"+str(i)].value is None:\n",
    "                ws[\"F\"+str(i)].value = self.nationality\n",
    "                break\n",
    "        for i in range(1,100):\n",
    "            if ws[\"G\"+str(i)].value is None:\n",
    "                ws[\"G\"+str(i)].value = self.address\n",
    "                break\n",
    "        for i in range(1,100):\n",
    "            if ws[\"H\"+str(i)].value is None:\n",
    "                ws[\"H\"+str(i)].value = self.phone_number\n",
    "                break\n",
    "        \n",
    "        \n",
    "        \n",
    "    def deposit(self):\n",
    "        money=float(input(\"Add the amount of money that you want to deposit: \"))\n",
    "        while money < 75:\n",
    "            print (\"You need to deposit more than 75$\")\n",
    "            exit_bank=input(\"Do you wish to exit the bank or do you want to deposit more money?\\nAnswer with an 'E' for exit and a 'D' for deposit \")\n",
    "            while exit_bank not in [\"E\",\"D\"]:\n",
    "                print (\"Invalid Input\")\n",
    "                exit_bank=input(\"Do you wish to exit the bank or do you want to deposit more money?\\nAnswer with an 'E' for exit and a 'D' for deposit \")\n",
    "            if exit_bank == \"E\":\n",
    "                quit()\n",
    "            else:\n",
    "                money=input(\"Add the amount of money that you want to deposit: \")\n",
    "        money_deposited.append(money)\n",
    "        print (\"Money deposited in ID\",self.id,\"with user name\",self.user_name)\n",
    "\n",
    "    def withdraw(self):\n",
    "        if self.id in IDS:\n",
    "            amount=input(\"Give me the amount of money that you want to withdraw \")\n",
    "            while amount <= 0:\n",
    "                print (\"Negative number or 0 given\")\n",
    "                amount=input(\"Give me the amount of money that you want to withdraw \")\n",
    "        else:\n",
    "            print (\"Your id does not belong in our id list\\nYou should consider making an account\")\n",
    "            quit()\n",
    "        pos=-1\n",
    "        i=0\n",
    "        while i < len(IDS) and pos == -1:\n",
    "            if self.id == IDS[i]:\n",
    "                pos = i\n",
    "            else:\n",
    "                i+=1\n",
    "        money_deposited[pos]-=amount\n",
    "\n",
    "    def check_balance(self):\n",
    "        if self.id in IDS:\n",
    "            pos=-1\n",
    "            i=0\n",
    "            while i < len(IDS) and pos == -1:\n",
    "                if self.id == IDS[i]:\n",
    "                    pos = i\n",
    "                else:\n",
    "                    i+=1\n",
    "            print (\"Your total balance is\",money_deposited[pos])\n",
    "        else:\n",
    "            print (\"Your id does not belong in our id list\\nYou should consider making an account\")\n",
    "\n",
    "\n",
    "\n",
    "        \n",
    "\n",
    "        \n",
    "            "
   ]
  },
  {
   "cell_type": "raw",
   "id": "2fc3dfac",
   "metadata": {},
   "source": [
    "# Bank1=Bank(None,\"Kostas\",\"konstantinosmichelis7@gmail.com\",\"8/12/1999\",\"Greek\",\"random\",\"69-24543945345\")\n",
    "Bank1.account_create()\n",
    "Instance Creation"
   ]
  },
  {
   "cell_type": "code",
   "execution_count": 118,
   "id": "6174b65b",
   "metadata": {},
   "outputs": [],
   "source": [
    "wb.save(r\"C:\\Users\\User\\Desktop\\Python-Excel\\.ipynb_checkpoints\\Database.xlsx\")"
   ]
  },
  {
   "cell_type": "code",
   "execution_count": null,
   "id": "ebde7839",
   "metadata": {},
   "outputs": [],
   "source": []
  }
 ],
 "metadata": {
  "kernelspec": {
   "display_name": "Python 3 (ipykernel)",
   "language": "python",
   "name": "python3"
  },
  "language_info": {
   "codemirror_mode": {
    "name": "ipython",
    "version": 3
   },
   "file_extension": ".py",
   "mimetype": "text/x-python",
   "name": "python",
   "nbconvert_exporter": "python",
   "pygments_lexer": "ipython3",
   "version": "3.9.13"
  }
 },
 "nbformat": 4,
 "nbformat_minor": 5
}
